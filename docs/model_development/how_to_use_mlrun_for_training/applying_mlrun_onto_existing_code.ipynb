{
 "cells": [
  {
   "cell_type": "markdown",
   "source": [
    "# Applying MLRun onto Existed Training Code\n",
    "\n",
    "MLRun can be applied onto your training code quickly and easily, with a one-line solution providing many quality of\n",
    "life features.\n",
    "\n",
    "MLRun takes your training code and provide you insightful experiments tracking with auto-logging plots and tables,\n",
    "manage your files with its artifacts and distribute your training using Dask and Horovod. Everything is done with\n",
    "`mlrun.frameworks` and its `apply_mlrun` function.\n",
    "\n",
    "After the integration with the code, simply create an MLRun function out of it and run like any other function."
   ],
   "metadata": {
    "collapsed": false,
    "pycharm": {
     "name": "#%% md\n"
    }
   }
  },
  {
   "cell_type": "markdown",
   "source": [
    "## Applying MLRun\n",
    "\n",
    "There are 2 options for you to integrate MLRun into your training code:\n",
    "\n",
    "* You can manually use the `mlrun.frameworks` package.\n",
    "* Or use our simple one-line solution function called `apply_mlrun`.\n",
    "\n",
    "Both are highly customizable and provide quick and easy integration to all of MLRun's quality of life features."
   ],
   "metadata": {
    "collapsed": false,
    "pycharm": {
     "name": "#%% md\n"
    }
   }
  },
  {
   "cell_type": "markdown",
   "source": [
    "### MLRun Frameworks\n",
    "\n",
    "`mlrun.frameworks` is a sub-package in MLRun - a collection of commonly used machine and deep learning frameworks fully\n",
    "supported and integrated in MLRun. Each framework supported will benefit many quality of life features we believe are\n",
    "essential for a [healthy development environment]() like automatic logging, experiment tracking, resources, models and\n",
    "files management, distributed training and hyperparameter tuning.\n",
    "\n",
    "All the features mentioned are enabled for every framework by 4 main classes:\n",
    "\n",
    "* **`MLRunInterface`** - An interface class providing MLRun's features by wrapping the framework's model and / or module\n",
    "  to seamlessly enable them.\n",
    "* **`ModelHandler`** - As its name suggests, it handles a framework's model and all of its related files. With 4 simple\n",
    "  methods: `load`, `save`, `log` and `update` you are able to get or store your model of choice, enabling straight to\n",
    "  the point and flexible file management. That includes module imports, custom objects (like python files of layers,\n",
    "  optimizers and metrics) and everything else that is needed to load your model, all in a single class.\n",
    "* **`ArtifactsLibrary`** - A static class of artifacts you can add to your framework's training to produce as outputs to\n",
    "  further increase your insights and experiment tracking and comparisons.\n",
    "* **`ModelServer`** - A serving class dedicated to the framework of choice, ready to be used in a realtime serving\n",
    "  function with high performance and monitoring capabilities.\n",
    "* Additional per framework classes (like a `MetricsLibrary` for SciKit-Learn).\n",
    "\n",
    "Orchestrating on all the above is our shortcut function `apply_mlrun`."
   ],
   "metadata": {
    "collapsed": false
   }
  },
  {
   "cell_type": "code",
   "execution_count": null,
   "outputs": [],
   "source": [
    "from mlrun.frameworks.sklearn import (\n",
    "    SKLearnMLRunInterface,\n",
    "    SKLearnModelHandler,\n",
    "    SKLearnArtifactsLibrary,\n",
    "    SklearnModelServer,\n",
    "    SKLearnMetricsLibrary\n",
    ")"
   ],
   "metadata": {
    "collapsed": false,
    "pycharm": {
     "name": "#%%\n"
    }
   }
  },
  {
   "cell_type": "markdown",
   "source": [
    "### The `apply_mlrun` Function\n",
    "\n",
    "The `apply_mlrun` function is MLRun's shortcut function to wrap your framework code and enable MLRun's quality of life\n",
    "features with a single line of code! No need to change your training code in order to assign GPUs and / or distribute it. No need to keep track of parameters\n",
    "and manually collect and plot metrics. `apply_mlrun` is taking care of it all.\n",
    "\n",
    "The `apply_mlrun` function is framework specific and can be imported from MLRun's frameworks package, Here we will\n",
    "import TensorFlow.Keras's function:"
   ],
   "metadata": {
    "collapsed": false
   }
  },
  {
   "cell_type": "code",
   "execution_count": null,
   "outputs": [],
   "source": [
    "from mlrun.frameworks.tf_keras import apply_mlrun"
   ],
   "metadata": {
    "collapsed": false,
    "pycharm": {
     "name": "#%%\n"
    }
   }
  },
  {
   "cell_type": "markdown",
   "source": [
    "From here, call it before calling `fit` or `train`, depends on your framework of choice. To demonstrate how easy it is,\n",
    "we will use `apply_mlrun` on top of TensorFlow's\n",
    "[Training a neural network on MNIST with Keras](https://www.tensorflow.org/datasets/keras_example) example:"
   ],
   "metadata": {
    "collapsed": false,
    "pycharm": {
     "name": "#%% md\n"
    }
   }
  },
  {
   "cell_type": "code",
   "execution_count": null,
   "outputs": [],
   "source": [
    "...\n",
    "\n",
    "model = tf.keras.models.Sequential([\n",
    "  tf.keras.layers.Flatten(input_shape=(28, 28)),\n",
    "  tf.keras.layers.Dense(128, activation='relu'),\n",
    "  tf.keras.layers.Dense(10)\n",
    "])\n",
    "\n",
    "###########################################################################\n",
    "# Applying MLRun on the created model to integrate with the training code:\n",
    "apply_mlrun(model=model, model_name=\"mnist_classifier\", tag=\"1.0.0\")\n",
    "###########################################################################\n",
    "\n",
    "model.compile(\n",
    "    optimizer=tf.keras.optimizers.Adam(0.001),\n",
    "    loss=tf.keras.losses.SparseCategoricalCrossentropy(from_logits=True),\n",
    "    metrics=[tf.keras.metrics.SparseCategoricalAccuracy()],\n",
    ")\n",
    "\n",
    "model.fit(\n",
    "    ds_train,\n",
    "    epochs=6,\n",
    "    validation_data=ds_test,\n",
    ")"
   ],
   "metadata": {
    "collapsed": false,
    "pycharm": {
     "name": "#%%\n"
    }
   }
  },
  {
   "cell_type": "markdown",
   "source": [
    "`apply_mlrun` can be used with its default settings, but it is highly flexible and rich with different options and\n",
    "configurations. We highly suggest reading the docs of your favorite framework here in MLRun's docs and get to know the\n",
    "additional tricks it can provide."
   ],
   "metadata": {
    "collapsed": false,
    "pycharm": {
     "name": "#%% md\n"
    }
   }
  },
  {
   "cell_type": "markdown",
   "source": [
    "## Run Training\n",
    "\n",
    "In order to run the training job all you need to do is create an MLRun Function out of it and run. Because you\n",
    "integrated MLRun into your code, MLRun will take care of all the rest.\n",
    "\n",
    "We will briefly showcase how to create and run a training job, to learn more read about [MLRun Functions]()."
   ],
   "metadata": {
    "collapsed": false,
    "pycharm": {
     "name": "#%% md\n"
    }
   }
  },
  {
   "cell_type": "markdown",
   "source": [
    "### Create the Training MLRun Function\n",
    "\n",
    "After using `mlrun.frameworks` classes or simply `apply_mlrun` you can now create an MLRun function out of your training\n",
    "code by using the function `mlrun.code_to_function` where you are able to select the image to use, additional\n",
    "requirements and more.\n",
    "\n",
    "Select the code's source (defaulted to the current python / notebook file) and you are good to go:"
   ],
   "metadata": {
    "collapsed": false
   }
  },
  {
   "cell_type": "code",
   "execution_count": null,
   "outputs": [],
   "source": [
    "import mlrun\n",
    "\n",
    "mnist_trainer_function = mlrun.code_to_function(\n",
    "    name=\"mnist_trainer\",\n",
    "    image=...,\n",
    "    requirements=[...],\n",
    "    kind=\"job\"\n",
    ")"
   ],
   "metadata": {
    "collapsed": false,
    "pycharm": {
     "name": "#%%\n"
    }
   }
  },
  {
   "cell_type": "markdown",
   "source": [
    "One of the more important attributes in MLRun function creation is `kind`. For training, `kind` can be one of 3 options:\n",
    "\n",
    "* **Job** (`\"job\"`) - For a single regular training run.\n",
    "* **Open MPI** (`\"mpijob\"`) - For initializing Open MPI job. If `apply_mlrun` was used Horovod will be used\n",
    "  automatically to distribute the training among the configured workers (for the DL frameworks TensorFlow and PyTorch).\n",
    "* **Dask** (`\"dask\"`) - For initializing a Dask job. If `apply_mlrun` was used Dask will be used\n",
    "  automatically to distribute the training among the configured workers (for the ML frameworks SciKit-Learn, XGBoost\n",
    "  and LightGBM).\n",
    "\n",
    "To know more about Dask and Horovod, visit the [distributed training]() page."
   ],
   "metadata": {
    "collapsed": false,
    "pycharm": {
     "name": "#%% md\n"
    }
   }
  },
  {
   "cell_type": "markdown",
   "source": [
    "### Run\n",
    "\n",
    "To run the training function, call the `run` method and thee results and artifacts will be visible in the MLRun UI.\n",
    "\n",
    "To know more about the artifacts and results produced, visit the [experiment tracking and automatic logging]() page."
   ],
   "metadata": {
    "collapsed": false,
    "pycharm": {
     "name": "#%% md\n"
    }
   }
  },
  {
   "cell_type": "code",
   "execution_count": null,
   "outputs": [],
   "source": [
    "mnist_trainer_run = mnist_trainer_function.run()"
   ],
   "metadata": {
    "collapsed": false,
    "pycharm": {
     "name": "#%%\n"
    }
   }
  },
  {
   "cell_type": "markdown",
   "source": [
    "The run object returned will hold all the outputs of the training. You can review the results. see the artifacts and\n",
    "pass them on as inputs to different functions as well."
   ],
   "metadata": {
    "collapsed": false,
    "pycharm": {
     "name": "#%% md\n"
    }
   }
  }
 ],
 "metadata": {
  "kernelspec": {
   "display_name": "Python 3",
   "language": "python",
   "name": "python3"
  },
  "language_info": {
   "codemirror_mode": {
    "name": "ipython",
    "version": 2
   },
   "file_extension": ".py",
   "mimetype": "text/x-python",
   "name": "python",
   "nbconvert_exporter": "python",
   "pygments_lexer": "ipython2",
   "version": "2.7.6"
  }
 },
 "nbformat": 4,
 "nbformat_minor": 0
}