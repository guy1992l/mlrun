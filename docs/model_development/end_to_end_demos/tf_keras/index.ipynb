{
 "cells": [
  {
   "cell_type": "markdown",
   "metadata": {},
   "source": [
    "# Model Development with MLRun and TensorFlow\n",
    "\n",
    "In this end-to-end turorial we will use the known and loved [MNIST dataset](https://en.wikipedia.org/wiki/MNIST_database) - a dataset of handwritten digits images, to develop a simple classifier using TensorFlow and serve it in a little notebook canvas. \n",
    "\n",
    "We will walk through all the model development steps (besides data collection and preparation, `tf.keras` have that convered for us): training, evaluation and serving, showcasing MLRun capabilities and quality of life features such as auto-logging, distributed training and more!"
   ]
  },
  {
   "cell_type": "markdown",
   "metadata": {},
   "source": [
    "### Goals\n",
    "\n",
    "By the end of this tutorial you will know how to:\n",
    "\n",
    "* **Apply MLRun** on existing code.\n",
    "* Use MLRun's **Automatic Logging** feature:\n",
    "  * Logging training and evaluation artifacts in MLRun.\n",
    "  * Logging to Tensorboard.\n",
    "* Run a **distributed training** task.\n",
    "* Run a **hyper-parameter tuning** task.\n",
    "* Deploy a model in a **serving graph using Nuclio**."
   ]
  },
  {
   "cell_type": "markdown",
   "metadata": {},
   "source": [
    "### Prerequisites\n",
    "\n",
    "Before we begin, make sure you know about the following MLRun concepts:\n",
    "\n",
    "* [Projects]() - We will create our project using `mlrun.get_or_create_project`.\n",
    "* [Functions]() - We will create our training MLRun function using `mlrun.code_to_function`.\n",
    "* [Automatic Logging]() - We will use the `apply_mlrun` function from MLRun's TensorFlow.Keras package.\n",
    "* [Serving]() - We will serve our model in a serving graph.\n",
    "\n",
    "And you have the following packages installed in your interpreter:"
   ]
  },
  {
   "cell_type": "code",
   "execution_count": null,
   "metadata": {},
   "outputs": [],
   "source": [
    "!pip install mlrun\n",
    "!pip install plotly\n",
    "!pip install tensorflow"
   ]
  },
  {
   "cell_type": "markdown",
   "metadata": {},
   "source": [
    "For the last chapter - Serving, we will use [ipycanvas](https://ipycanvas.readthedocs.io/en/latest/index.html) - An interactive canvas in jupyter, to draw our digits. In order to run it, you need to install its package:"
   ]
  },
  {
   "cell_type": "code",
   "execution_count": 1,
   "metadata": {},
   "outputs": [
    {
     "name": "stdout",
     "output_type": "stream",
     "text": [
      "Requirement already satisfied: ipycanvas in /User/.pythonlibs/jupyter-guyl/lib/python3.7/site-packages (0.11.0)\n",
      "Requirement already satisfied: numpy in /User/.pythonlibs/jupyter-guyl/lib/python3.7/site-packages (from ipycanvas) (1.21.6)\n",
      "Requirement already satisfied: pillow>=6.0 in /conda/lib/python3.7/site-packages (from ipycanvas) (8.0.0)\n",
      "Requirement already satisfied: ipywidgets>=7.6.0 in /User/.pythonlibs/jupyter-guyl/lib/python3.7/site-packages (from ipycanvas) (7.7.0)\n",
      "Requirement already satisfied: ipykernel>=4.5.1 in /conda/lib/python3.7/site-packages (from ipywidgets>=7.6.0->ipycanvas) (5.3.4)\n",
      "Requirement already satisfied: jupyterlab-widgets>=1.0.0; python_version >= \"3.6\" in /User/.pythonlibs/jupyter-guyl/lib/python3.7/site-packages (from ipywidgets>=7.6.0->ipycanvas) (1.1.0)\n",
      "Requirement already satisfied: traitlets>=4.3.1 in /conda/lib/python3.7/site-packages (from ipywidgets>=7.6.0->ipycanvas) (4.3.3)\n",
      "Requirement already satisfied: widgetsnbextension~=3.6.0 in /User/.pythonlibs/jupyter-guyl/lib/python3.7/site-packages (from ipywidgets>=7.6.0->ipycanvas) (3.6.0)\n",
      "Requirement already satisfied: nbformat>=4.2.0 in /conda/lib/python3.7/site-packages (from ipywidgets>=7.6.0->ipycanvas) (5.0.8)\n",
      "Requirement already satisfied: ipython-genutils~=0.2.0 in /conda/lib/python3.7/site-packages (from ipywidgets>=7.6.0->ipycanvas) (0.2.0)\n",
      "Requirement already satisfied: ipython>=4.0.0; python_version >= \"3.3\" in /conda/lib/python3.7/site-packages (from ipywidgets>=7.6.0->ipycanvas) (7.16.1)\n",
      "Requirement already satisfied: jupyter-client in /conda/lib/python3.7/site-packages (from ipykernel>=4.5.1->ipywidgets>=7.6.0->ipycanvas) (6.1.7)\n",
      "Requirement already satisfied: tornado>=4.2 in /conda/lib/python3.7/site-packages (from ipykernel>=4.5.1->ipywidgets>=7.6.0->ipycanvas) (6.0.4)\n",
      "Requirement already satisfied: six in /conda/lib/python3.7/site-packages (from traitlets>=4.3.1->ipywidgets>=7.6.0->ipycanvas) (1.12.0)\n",
      "Requirement already satisfied: decorator in /conda/lib/python3.7/site-packages (from traitlets>=4.3.1->ipywidgets>=7.6.0->ipycanvas) (4.4.2)\n",
      "Requirement already satisfied: notebook>=4.4.1 in /conda/lib/python3.7/site-packages (from widgetsnbextension~=3.6.0->ipywidgets>=7.6.0->ipycanvas) (6.1.6)\n",
      "Requirement already satisfied: jsonschema!=2.5.0,>=2.4 in /conda/lib/python3.7/site-packages (from nbformat>=4.2.0->ipywidgets>=7.6.0->ipycanvas) (3.2.0)\n",
      "Requirement already satisfied: jupyter-core in /conda/lib/python3.7/site-packages (from nbformat>=4.2.0->ipywidgets>=7.6.0->ipycanvas) (4.6.3)\n",
      "Requirement already satisfied: prompt-toolkit!=3.0.0,!=3.0.1,<3.1.0,>=2.0.0 in /conda/lib/python3.7/site-packages (from ipython>=4.0.0; python_version >= \"3.3\"->ipywidgets>=7.6.0->ipycanvas) (3.0.8)\n",
      "Requirement already satisfied: jedi>=0.10 in /conda/lib/python3.7/site-packages (from ipython>=4.0.0; python_version >= \"3.3\"->ipywidgets>=7.6.0->ipycanvas) (0.17.2)\n",
      "Requirement already satisfied: backcall in /conda/lib/python3.7/site-packages (from ipython>=4.0.0; python_version >= \"3.3\"->ipywidgets>=7.6.0->ipycanvas) (0.2.0)\n",
      "Requirement already satisfied: setuptools>=18.5 in /conda/lib/python3.7/site-packages (from ipython>=4.0.0; python_version >= \"3.3\"->ipywidgets>=7.6.0->ipycanvas) (41.0.0)\n",
      "Requirement already satisfied: pygments in /conda/lib/python3.7/site-packages (from ipython>=4.0.0; python_version >= \"3.3\"->ipywidgets>=7.6.0->ipycanvas) (2.7.1)\n",
      "Requirement already satisfied: pickleshare in /conda/lib/python3.7/site-packages (from ipython>=4.0.0; python_version >= \"3.3\"->ipywidgets>=7.6.0->ipycanvas) (0.7.5)\n",
      "Requirement already satisfied: pexpect; sys_platform != \"win32\" in /conda/lib/python3.7/site-packages (from ipython>=4.0.0; python_version >= \"3.3\"->ipywidgets>=7.6.0->ipycanvas) (4.8.0)\n",
      "Requirement already satisfied: pyzmq>=13 in /conda/lib/python3.7/site-packages (from jupyter-client->ipykernel>=4.5.1->ipywidgets>=7.6.0->ipycanvas) (19.0.2)\n",
      "Requirement already satisfied: python-dateutil>=2.1 in /conda/lib/python3.7/site-packages (from jupyter-client->ipykernel>=4.5.1->ipywidgets>=7.6.0->ipycanvas) (2.8.1)\n",
      "Requirement already satisfied: Send2Trash in /conda/lib/python3.7/site-packages (from notebook>=4.4.1->widgetsnbextension~=3.6.0->ipywidgets>=7.6.0->ipycanvas) (1.5.0)\n",
      "Requirement already satisfied: prometheus-client in /conda/lib/python3.7/site-packages (from notebook>=4.4.1->widgetsnbextension~=3.6.0->ipywidgets>=7.6.0->ipycanvas) (0.8.0)\n",
      "Requirement already satisfied: terminado>=0.8.3 in /conda/lib/python3.7/site-packages (from notebook>=4.4.1->widgetsnbextension~=3.6.0->ipywidgets>=7.6.0->ipycanvas) (0.9.1)\n",
      "Requirement already satisfied: jinja2 in /User/.pythonlibs/jupyter-guyl/lib/python3.7/site-packages (from notebook>=4.4.1->widgetsnbextension~=3.6.0->ipywidgets>=7.6.0->ipycanvas) (3.0.3)\n",
      "Requirement already satisfied: argon2-cffi in /conda/lib/python3.7/site-packages (from notebook>=4.4.1->widgetsnbextension~=3.6.0->ipywidgets>=7.6.0->ipycanvas) (20.1.0)\n",
      "Requirement already satisfied: nbconvert in /conda/lib/python3.7/site-packages (from notebook>=4.4.1->widgetsnbextension~=3.6.0->ipywidgets>=7.6.0->ipycanvas) (6.0.7)\n",
      "Requirement already satisfied: attrs>=17.4.0 in /conda/lib/python3.7/site-packages (from jsonschema!=2.5.0,>=2.4->nbformat>=4.2.0->ipywidgets>=7.6.0->ipycanvas) (20.2.0)\n",
      "Requirement already satisfied: pyrsistent>=0.14.0 in /conda/lib/python3.7/site-packages (from jsonschema!=2.5.0,>=2.4->nbformat>=4.2.0->ipywidgets>=7.6.0->ipycanvas) (0.17.3)\n",
      "Requirement already satisfied: importlib-metadata; python_version < \"3.8\" in /conda/lib/python3.7/site-packages (from jsonschema!=2.5.0,>=2.4->nbformat>=4.2.0->ipywidgets>=7.6.0->ipycanvas) (2.0.0)\n",
      "Requirement already satisfied: wcwidth in /conda/lib/python3.7/site-packages (from prompt-toolkit!=3.0.0,!=3.0.1,<3.1.0,>=2.0.0->ipython>=4.0.0; python_version >= \"3.3\"->ipywidgets>=7.6.0->ipycanvas) (0.2.5)\n",
      "Requirement already satisfied: parso<0.8.0,>=0.7.0 in /conda/lib/python3.7/site-packages (from jedi>=0.10->ipython>=4.0.0; python_version >= \"3.3\"->ipywidgets>=7.6.0->ipycanvas) (0.7.0)\n",
      "Requirement already satisfied: ptyprocess>=0.5 in /conda/lib/python3.7/site-packages (from pexpect; sys_platform != \"win32\"->ipython>=4.0.0; python_version >= \"3.3\"->ipywidgets>=7.6.0->ipycanvas) (0.6.0)\n",
      "Requirement already satisfied: MarkupSafe>=2.0 in /User/.pythonlibs/jupyter-guyl/lib/python3.7/site-packages (from jinja2->notebook>=4.4.1->widgetsnbextension~=3.6.0->ipywidgets>=7.6.0->ipycanvas) (2.1.1)\n",
      "Requirement already satisfied: cffi>=1.0.0 in /conda/lib/python3.7/site-packages (from argon2-cffi->notebook>=4.4.1->widgetsnbextension~=3.6.0->ipywidgets>=7.6.0->ipycanvas) (1.12.2)\n",
      "Requirement already satisfied: jupyterlab-pygments in /conda/lib/python3.7/site-packages (from nbconvert->notebook>=4.4.1->widgetsnbextension~=3.6.0->ipywidgets>=7.6.0->ipycanvas) (0.1.2)\n",
      "Requirement already satisfied: entrypoints>=0.2.2 in /conda/lib/python3.7/site-packages (from nbconvert->notebook>=4.4.1->widgetsnbextension~=3.6.0->ipywidgets>=7.6.0->ipycanvas) (0.3)\n",
      "Requirement already satisfied: defusedxml in /conda/lib/python3.7/site-packages (from nbconvert->notebook>=4.4.1->widgetsnbextension~=3.6.0->ipywidgets>=7.6.0->ipycanvas) (0.6.0)\n",
      "Requirement already satisfied: bleach in /conda/lib/python3.7/site-packages (from nbconvert->notebook>=4.4.1->widgetsnbextension~=3.6.0->ipywidgets>=7.6.0->ipycanvas) (3.2.1)\n",
      "Requirement already satisfied: testpath in /conda/lib/python3.7/site-packages (from nbconvert->notebook>=4.4.1->widgetsnbextension~=3.6.0->ipywidgets>=7.6.0->ipycanvas) (0.4.4)\n",
      "Requirement already satisfied: mistune<2,>=0.8.1 in /conda/lib/python3.7/site-packages (from nbconvert->notebook>=4.4.1->widgetsnbextension~=3.6.0->ipywidgets>=7.6.0->ipycanvas) (0.8.4)\n",
      "Requirement already satisfied: nbclient<0.6.0,>=0.5.0 in /conda/lib/python3.7/site-packages (from nbconvert->notebook>=4.4.1->widgetsnbextension~=3.6.0->ipywidgets>=7.6.0->ipycanvas) (0.5.1)\n",
      "Requirement already satisfied: pandocfilters>=1.4.1 in /conda/lib/python3.7/site-packages (from nbconvert->notebook>=4.4.1->widgetsnbextension~=3.6.0->ipywidgets>=7.6.0->ipycanvas) (1.4.2)\n",
      "Requirement already satisfied: zipp>=0.5 in /conda/lib/python3.7/site-packages (from importlib-metadata; python_version < \"3.8\"->jsonschema!=2.5.0,>=2.4->nbformat>=4.2.0->ipywidgets>=7.6.0->ipycanvas) (3.3.1)\n",
      "Requirement already satisfied: pycparser in /conda/lib/python3.7/site-packages (from cffi>=1.0.0->argon2-cffi->notebook>=4.4.1->widgetsnbextension~=3.6.0->ipywidgets>=7.6.0->ipycanvas) (2.19)\n",
      "Requirement already satisfied: webencodings in /conda/lib/python3.7/site-packages (from bleach->nbconvert->notebook>=4.4.1->widgetsnbextension~=3.6.0->ipywidgets>=7.6.0->ipycanvas) (0.5.1)\n",
      "Requirement already satisfied: packaging in /conda/lib/python3.7/site-packages (from bleach->nbconvert->notebook>=4.4.1->widgetsnbextension~=3.6.0->ipywidgets>=7.6.0->ipycanvas) (20.4)\n",
      "Requirement already satisfied: async-generator in /conda/lib/python3.7/site-packages (from nbclient<0.6.0,>=0.5.0->nbconvert->notebook>=4.4.1->widgetsnbextension~=3.6.0->ipywidgets>=7.6.0->ipycanvas) (1.10)\n",
      "Requirement already satisfied: nest-asyncio in /conda/lib/python3.7/site-packages (from nbclient<0.6.0,>=0.5.0->nbconvert->notebook>=4.4.1->widgetsnbextension~=3.6.0->ipywidgets>=7.6.0->ipycanvas) (1.4.1)\n",
      "Requirement already satisfied: pyparsing>=2.0.2 in /conda/lib/python3.7/site-packages (from packaging->bleach->nbconvert->notebook>=4.4.1->widgetsnbextension~=3.6.0->ipywidgets>=7.6.0->ipycanvas) (2.4.7)\n"
     ]
    }
   ],
   "source": [
    "!pip install ipycanvas"
   ]
  },
  {
   "cell_type": "markdown",
   "metadata": {},
   "source": [
    "If using JupyterLab, it also require a JupyterLab Extension. Assuming you have `npm` (if not please run the command: `conda install -c conda-forge nodejs`, from the [installation page](https://ipycanvas.readthedocs.io/en/latest/installation.html) of ipycanvas) run the following to install the extension:"
   ]
  },
  {
   "cell_type": "code",
   "execution_count": 2,
   "metadata": {},
   "outputs": [
    {
     "name": "stdout",
     "output_type": "stream",
     "text": [
      "Config option `kernel_spec_manager_class` not recognized by `InstallLabExtensionApp`.\n",
      "Building jupyterlab assets (build:prod:minimize)\n"
     ]
    }
   ],
   "source": [
    "!jupyter labextension install @jupyter-widgets/jupyterlab-manager ipycanvas"
   ]
  },
  {
   "cell_type": "markdown",
   "metadata": {},
   "source": [
    "Refresh your browser page for JupyterLab to rebuild itself and restart your kernel."
   ]
  },
  {
   "cell_type": "markdown",
   "metadata": {},
   "source": [
    "### Table of contents\n",
    "\n",
    "1. [Model Development](./model_development.ipynb) - Developing our MNIST classifier, showcasing how MLRun seamlessly integrates into existing code and reviewing the automatic logging feature for both training and evaluation.\n",
    "2. [Hyperparameters Tuning](./hyperparameters_tuning.ipynb) - Run a hyperparameter tuning job, reviewing MLRun's UI and artifacts produced.\n",
    "3. [Distributed Training](./distributed_training.ipynb)  - Run a distributed training job, using Horovod on top of MPI.\n",
    "4. [Model Serving](./model_serving.ipynb) - Create a real time serving graph to test our model."
   ]
  },
  {
   "cell_type": "markdown",
   "metadata": {},
   "source": [
    "**We wish you good luck and have fun MLRunning!**"
   ]
  },
  {
   "cell_type": "code",
   "execution_count": null,
   "metadata": {},
   "outputs": [],
   "source": []
  }
 ],
 "metadata": {
  "kernelspec": {
   "display_name": "Python 3",
   "language": "python",
   "name": "python3"
  },
  "language_info": {
   "codemirror_mode": {
    "name": "ipython",
    "version": 3
   },
   "file_extension": ".py",
   "mimetype": "text/x-python",
   "name": "python",
   "nbconvert_exporter": "python",
   "pygments_lexer": "ipython3",
   "version": "3.7.6"
  }
 },
 "nbformat": 4,
 "nbformat_minor": 4
}
