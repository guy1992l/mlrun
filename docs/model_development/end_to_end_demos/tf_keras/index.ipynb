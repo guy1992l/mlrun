{
 "cells": [
  {
   "cell_type": "markdown",
   "metadata": {},
   "source": [
    "# Model Development with MLRun and TensorFlow\n",
    "\n",
    "In this end-to-end turorial we will use the known and loved [MNIST dataset](https://en.wikipedia.org/wiki/MNIST_database) - a dataset of handwritten digits images, to develop a simple classifier using TensorFlow and serve it in a little notebook canvas. \n",
    "\n",
    "We will walk through all the model development steps (besides data collection and preparation, `tf.keras` have that convered for us): training, evaluation and serving, showcasing MLRun capabilities and quality of life features such as auto-logging, distributed training and more!"
   ]
  },
  {
   "cell_type": "markdown",
   "metadata": {},
   "source": [
    "### Goals\n",
    "\n",
    "By the end of this tutorial you will know how to:\n",
    "\n",
    "* **Apply MLRun** on existing code.\n",
    "* Use MLRun's **Automatic Logging** feature:\n",
    "  * Logging training and evaluation artifacts in MLRun.\n",
    "  * Logging to Tensorboard.\n",
    "* Run a **distributed training** task.\n",
    "* Run a **hyper-parameter tuning** task.\n",
    "* Deploy a model in a **serving graph using Nuclio**."
   ]
  },
  {
   "cell_type": "markdown",
   "metadata": {},
   "source": [
    "### Prerequisites\n",
    "\n",
    "Before we begin, make sure you know about the following MLRun concepts:\n",
    "\n",
    "* [Projects]() - We will create our project using `mlrun.get_or_create_project`.\n",
    "* [Functions]() - We will create our training MLRun function using `mlrun.code_to_function`.\n",
    "* [Automatic Logging]() - We will use the `apply_mlrun` function from MLRun's TensorFlow.Keras package.\n",
    "* [Serving]() - We will serve our model in a serving graph.\n",
    "\n",
    "And you have the following packages installed in your interpreter:"
   ]
  },
  {
   "cell_type": "code",
   "execution_count": null,
   "metadata": {},
   "outputs": [],
   "source": [
    "# !pip install mlrun\n",
    "!pip install plotly\n",
    "# !pip install tensorflow"
   ]
  },
  {
   "cell_type": "markdown",
   "metadata": {},
   "source": [
    "For the last chapter - Serving, we will use [ipycanvas](https://ipycanvas.readthedocs.io/en/latest/index.html) - An interactive canvas in jupyter, to draw our digits. In order to run it, you need to install its package:"
   ]
  },
  {
   "cell_type": "code",
   "execution_count": null,
   "metadata": {},
   "outputs": [],
   "source": [
    "!pip install ipycanvas"
   ]
  },
  {
   "cell_type": "markdown",
   "metadata": {},
   "source": [
    "If using JupyterLab, it also require a JupyterLab Extension. Assuming you have `npm` (if not please run the command: `conda install -c conda-forge nodejs`, from the [installation page](https://ipycanvas.readthedocs.io/en/latest/installation.html) of ipycanvas) run the following to install the extension:"
   ]
  },
  {
   "cell_type": "code",
   "execution_count": null,
   "metadata": {},
   "outputs": [],
   "source": [
    "!jupyter labextension install @jupyter-widgets/jupyterlab-manager ipycanvas"
   ]
  },
  {
   "cell_type": "markdown",
   "metadata": {},
   "source": [
    "Refresh your browser page for JupyterLab to rebuild itself and restart your kernel."
   ]
  },
  {
   "cell_type": "markdown",
   "metadata": {},
   "source": [
    "### Table of contents\n",
    "\n",
    "1. [Model Development](./model_development.ipynb) - Developing our MNIST classifier, showcasing how MLRun seamlessly integrates into existing code and reviewing the automatic logging feature for both training and evaluation.\n",
    "2. [Hyperparameters Tuning](./hyperparameters_tuning.ipynb) - Run a hyperparameter tuning job, reviewing MLRun's UI and artifacts produced.\n",
    "3. [Distributed Training](./distributed_training.ipynb)  - Run a distributed training job, using Horovod on top of MPI.\n",
    "4. [Model Serving](./model_serving.ipynb) - Create a real time serving graph to test our model."
   ]
  },
  {
   "cell_type": "markdown",
   "metadata": {},
   "source": [
    "**We wish you good luck and have fun MLRunning!**"
   ]
  },
  {
   "cell_type": "code",
   "execution_count": null,
   "metadata": {},
   "outputs": [],
   "source": []
  }
 ],
 "metadata": {
  "kernelspec": {
   "display_name": "Python 3",
   "language": "python",
   "name": "python3"
  },
  "language_info": {
   "codemirror_mode": {
    "name": "ipython",
    "version": 3
   },
   "file_extension": ".py",
   "mimetype": "text/x-python",
   "name": "python",
   "nbconvert_exporter": "python",
   "pygments_lexer": "ipython3",
   "version": "3.7.6"
  }
 },
 "nbformat": 4,
 "nbformat_minor": 4
}
